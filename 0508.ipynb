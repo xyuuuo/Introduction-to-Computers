{
  "nbformat": 4,
  "nbformat_minor": 0,
  "metadata": {
    "colab": {
      "provenance": [],
      "authorship_tag": "ABX9TyOgG+yR1SzEKrYHoZ+vpxZ4",
      "include_colab_link": true
    },
    "kernelspec": {
      "name": "python3",
      "display_name": "Python 3"
    },
    "language_info": {
      "name": "python"
    }
  },
  "cells": [
    {
      "cell_type": "markdown",
      "metadata": {
        "id": "view-in-github",
        "colab_type": "text"
      },
      "source": [
        "<a href=\"https://colab.research.google.com/github/xyuuuo/Introduction-to-Computers/blob/main/0508.ipynb\" target=\"_parent\"><img src=\"https://colab.research.google.com/assets/colab-badge.svg\" alt=\"Open In Colab\"/></a>"
      ]
    },
    {
      "cell_type": "code",
      "execution_count": 1,
      "metadata": {
        "id": "w_TR2t4wBMpL",
        "colab": {
          "base_uri": "https://localhost:8080/"
        },
        "outputId": "452be86b-c047-4cf3-e668-888dac9868f1"
      },
      "outputs": [
        {
          "output_type": "stream",
          "name": "stdout",
          "text": [
            "0508\n"
          ]
        }
      ],
      "source": [
        "print(\"0508\")"
      ]
    },
    {
      "cell_type": "code",
      "source": [
        "C = int(input(\"請輸入體溫:\"))\n",
        "if(C >= 37.5):\n",
        "    print(\"體溫過高!\")\n",
        "elif(37.4 >= C >= 37):\n",
        "    print(\"體溫略高!\")\n",
        "elif(36.9 >= C >= 34):\n",
        "    print(\"體溫正常!\")\n",
        "else:\n",
        "    print(\"體溫異常,請重新測量!\")"
      ],
      "metadata": {
        "id": "yP_zKhoYHynN",
        "colab": {
          "base_uri": "https://localhost:8080/"
        },
        "outputId": "abd971d2-3fbc-47f7-ccd7-adbba6f41e56"
      },
      "execution_count": 2,
      "outputs": [
        {
          "output_type": "stream",
          "name": "stdout",
          "text": [
            "請輸入體溫:38\n",
            "體溫過高!\n"
          ]
        }
      ]
    },
    {
      "cell_type": "code",
      "source": [
        "C = int(input(\"請輸入體溫:\"))\n",
        "if(C >= 37.5):\n",
        "    print(\"體溫過高!\")\n",
        "elif(37.4 >= C >= 37):\n",
        "    print(\"體溫略高!\")\n",
        "elif(36.9 >= C >= 34):\n",
        "    print(\"體溫正常!\")\n",
        "else:\n",
        "    print(\"體溫異常,請重新測量!\")"
      ],
      "metadata": {
        "colab": {
          "base_uri": "https://localhost:8080/"
        },
        "id": "zYhovVdzHy1O",
        "outputId": "b05319e7-ca01-4a07-903d-047b5a0ff493"
      },
      "execution_count": 4,
      "outputs": [
        {
          "output_type": "stream",
          "name": "stdout",
          "text": [
            "請輸入體溫:37\n",
            "體溫略高!\n"
          ]
        }
      ]
    },
    {
      "cell_type": "code",
      "source": [
        "C = int(input(\"請輸入體溫:\"))\n",
        "if(C >= 37.5):\n",
        "    print(\"體溫過高!\")\n",
        "elif(37.4 >= C >= 37):\n",
        "    print(\"體溫略高!\")\n",
        "elif(36.9 >= C >= 34):\n",
        "    print(\"體溫正常!\")\n",
        "else:\n",
        "    print(\"體溫異常,請重新測量!\")"
      ],
      "metadata": {
        "colab": {
          "base_uri": "https://localhost:8080/"
        },
        "id": "hAYU69aTBy-J",
        "outputId": "532118d4-2124-4c58-de61-d53c5bf181a1"
      },
      "execution_count": 5,
      "outputs": [
        {
          "output_type": "stream",
          "name": "stdout",
          "text": [
            "請輸入體溫:34\n",
            "體溫正常!\n"
          ]
        }
      ]
    },
    {
      "cell_type": "code",
      "source": [
        "C = int(input(\"請輸入體溫:\"))\n",
        "if(C >= 37.5):\n",
        "    print(\"體溫過高!\")\n",
        "elif(37.4 >= C >= 37):\n",
        "    print(\"體溫略高!\")\n",
        "elif(36.9 >= C >= 34):\n",
        "    print(\"體溫正常!\")\n",
        "else:\n",
        "    print(\"體溫異常,請重新測量!\")"
      ],
      "metadata": {
        "colab": {
          "base_uri": "https://localhost:8080/"
        },
        "id": "Onqft94VO3U-",
        "outputId": "48e829d9-6d24-4590-e4f7-96f34a449116"
      },
      "execution_count": 6,
      "outputs": [
        {
          "output_type": "stream",
          "name": "stdout",
          "text": [
            "請輸入體溫:33\n",
            "體溫異常,請重新測量!\n"
          ]
        }
      ]
    },
    {
      "cell_type": "code",
      "source": [
        "score = int(input(\"請輸入成績:\"))\n",
        "if(score >= 90):\n",
        "    print(\"A\")\n",
        "elif(89 >= score >= 80):\n",
        "    print(\"B\")\n",
        "elif(79 >= score >= 70):\n",
        "    print(\"C\")\n",
        "elif(69 >= score >= 60):\n",
        "    print(\"D\")\n",
        "else:\n",
        "    print(\"E\")"
      ],
      "metadata": {
        "colab": {
          "base_uri": "https://localhost:8080/"
        },
        "id": "6-V6P0NID7nZ",
        "outputId": "c29bda98-9bd8-45c3-eedf-17a446bda0e3"
      },
      "execution_count": 7,
      "outputs": [
        {
          "output_type": "stream",
          "name": "stdout",
          "text": [
            "請輸入成績:90\n",
            "A\n"
          ]
        }
      ]
    },
    {
      "cell_type": "code",
      "source": [
        "score = int(input(\"請輸入成績:\"))\n",
        "if(score >= 90):\n",
        "    print(\"A\")\n",
        "elif(89 >= score >= 80):\n",
        "    print(\"B\")\n",
        "elif(79 >= score >= 70):\n",
        "    print(\"C\")\n",
        "elif(69 >= score >= 60):\n",
        "    print(\"D\")\n",
        "else:\n",
        "    print(\"E\")"
      ],
      "metadata": {
        "colab": {
          "base_uri": "https://localhost:8080/"
        },
        "id": "6XITuFJaFjA9",
        "outputId": "5493d1c7-2e54-4a1b-8597-2912aa414eeb"
      },
      "execution_count": 8,
      "outputs": [
        {
          "output_type": "stream",
          "name": "stdout",
          "text": [
            "請輸入成績:80\n",
            "B\n"
          ]
        }
      ]
    },
    {
      "cell_type": "code",
      "source": [
        "score = int(input(\"請輸入成績:\"))\n",
        "if(score >= 90):\n",
        "    print(\"A\")\n",
        "elif(89 >= score >= 80):\n",
        "    print(\"B\")\n",
        "elif(79 >= score >= 70):\n",
        "    print(\"C\")\n",
        "elif(69 >= score >= 60):\n",
        "    print(\"D\")\n",
        "else:\n",
        "    print(\"E\")"
      ],
      "metadata": {
        "colab": {
          "base_uri": "https://localhost:8080/"
        },
        "id": "DI7nqNp_FjJ8",
        "outputId": "99778100-bdcb-4730-8e9d-966f9f674b55"
      },
      "execution_count": 9,
      "outputs": [
        {
          "output_type": "stream",
          "name": "stdout",
          "text": [
            "請輸入成績:50\n",
            "E\n"
          ]
        }
      ]
    },
    {
      "cell_type": "code",
      "source": [
        "month = int(input(\"請輸入月份:\"))\n",
        "if month == 3 or month == 4 or month == 5:\n",
        "    print(month,\"月是春天!\")\n",
        "elif month == 6 or month == 7 or month == 8:\n",
        "    print(month,\"月是夏天!\")\n",
        "elif(month == 9 or month == 10 or month == 11):\n",
        "    print(month,\"月是秋天!\")\n",
        "elif(month == 12 or month == 1 or month == 2):\n",
        "    print(month,\"月是冬天!\")\n",
        "else:\n",
        "    print(\"月份不再範圍內!\")"
      ],
      "metadata": {
        "id": "ccTk7KCaD77g",
        "colab": {
          "base_uri": "https://localhost:8080/"
        },
        "outputId": "6bdd792a-18ec-4d10-fe21-fec23cbb91b0"
      },
      "execution_count": 25,
      "outputs": [
        {
          "output_type": "stream",
          "name": "stdout",
          "text": [
            "請輸入月份:4\n",
            "4 月是春天!\n"
          ]
        }
      ]
    },
    {
      "cell_type": "code",
      "source": [
        "month = int(input(\"請輸入月份:\"))\n",
        "if month == 3 or month == 4 or month == 5:\n",
        "    print(month,\"月是春天!\")\n",
        "elif month == 6 or month == 7 or month == 8:\n",
        "    print(month,\"月是夏天!\")\n",
        "elif(month == 9 or month == 10 or month == 11):\n",
        "    print(month,\"月是秋天!\")\n",
        "elif(month == 12 or month == 1 or month == 2):\n",
        "    print(month,\"月是冬天!\")\n",
        "else:\n",
        "    print(\"月份不再範圍內!\")"
      ],
      "metadata": {
        "id": "iEAepN-TUnG6",
        "colab": {
          "base_uri": "https://localhost:8080/"
        },
        "outputId": "a1916717-59a1-499b-d948-543cf1884613"
      },
      "execution_count": 26,
      "outputs": [
        {
          "output_type": "stream",
          "name": "stdout",
          "text": [
            "請輸入月份:8\n",
            "8 月是夏天!\n"
          ]
        }
      ]
    },
    {
      "cell_type": "code",
      "source": [
        "month = int(input(\"請輸入月份:\"))\n",
        "if month == 3 or month == 4 or month == 5:\n",
        "    print(month,\"月是春天!\")\n",
        "elif month == 6 or month == 7 or month == 8:\n",
        "    print(month,\"月是夏天!\")\n",
        "elif(month == 9 or month == 10 or month == 11):\n",
        "    print(month,\"月是秋天!\")\n",
        "elif(month == 12 or month == 1 or month == 2):\n",
        "    print(month,\"月是冬天!\")\n",
        "else:\n",
        "    print(\"月份不再範圍內!\")"
      ],
      "metadata": {
        "id": "3wgrIv_bUn2T",
        "colab": {
          "base_uri": "https://localhost:8080/"
        },
        "outputId": "b4b3b23f-0068-4645-99c8-cd223c86f377"
      },
      "execution_count": 27,
      "outputs": [
        {
          "output_type": "stream",
          "name": "stdout",
          "text": [
            "請輸入月份:9\n",
            "9 月是秋天!\n"
          ]
        }
      ]
    },
    {
      "cell_type": "code",
      "source": [
        "month = int(input(\"請輸入月份:\"))\n",
        "if month == 3 or month == 4 or month == 5:\n",
        "    print(month,\"月是春天!\")\n",
        "elif month == 6 or month == 7 or month == 8:\n",
        "    print(month,\"月是夏天!\")\n",
        "elif(month == 9 or month == 10 or month == 11):\n",
        "    print(month,\"月是秋天!\")\n",
        "elif(month == 12 or month == 1 or month == 2):\n",
        "    print(month,\"月是冬天!\")\n",
        "else:\n",
        "    print(\"月份不再範圍內!\")"
      ],
      "metadata": {
        "id": "aqgC8-v0Un75",
        "colab": {
          "base_uri": "https://localhost:8080/"
        },
        "outputId": "288a9fd2-5ccf-45c9-abc0-86728c7fde89"
      },
      "execution_count": 28,
      "outputs": [
        {
          "output_type": "stream",
          "name": "stdout",
          "text": [
            "請輸入月份:1\n",
            "1 月是冬天!\n"
          ]
        }
      ]
    }
  ]
}