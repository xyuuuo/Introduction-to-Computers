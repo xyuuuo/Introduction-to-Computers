{
  "nbformat": 4,
  "nbformat_minor": 0,
  "metadata": {
    "colab": {
      "provenance": [],
      "authorship_tag": "ABX9TyOrMd0KvBEiiup8F31nbfQR",
      "include_colab_link": true
    },
    "kernelspec": {
      "name": "python3",
      "display_name": "Python 3"
    },
    "language_info": {
      "name": "python"
    }
  },
  "cells": [
    {
      "cell_type": "markdown",
      "metadata": {
        "id": "view-in-github",
        "colab_type": "text"
      },
      "source": [
        "<a href=\"https://colab.research.google.com/github/xyuuuo/Introduction-to-Computers/blob/main/0320.ipynb\" target=\"_parent\"><img src=\"https://colab.research.google.com/assets/colab-badge.svg\" alt=\"Open In Colab\"/></a>"
      ]
    },
    {
      "cell_type": "code",
      "execution_count": 69,
      "metadata": {
        "id": "X6IX-UPMvPnP"
      },
      "outputs": [],
      "source": [
        "a = 1"
      ]
    },
    {
      "cell_type": "code",
      "source": [
        "a"
      ],
      "metadata": {
        "colab": {
          "base_uri": "https://localhost:8080/"
        },
        "id": "Qiju3KdVvcAK",
        "outputId": "04d2fc2a-81ca-416b-d1bb-2cce18a7c596"
      },
      "execution_count": null,
      "outputs": [
        {
          "output_type": "execute_result",
          "data": {
            "text/plain": [
              "1"
            ]
          },
          "metadata": {},
          "execution_count": 39
        }
      ]
    },
    {
      "cell_type": "code",
      "source": [
        "b = input(\"請輸入一個數字\")"
      ],
      "metadata": {
        "colab": {
          "base_uri": "https://localhost:8080/"
        },
        "id": "_k0U-yL5vcII",
        "outputId": "72c34b06-1f92-485a-a96a-9d17793296d8"
      },
      "execution_count": null,
      "outputs": [
        {
          "name": "stdout",
          "output_type": "stream",
          "text": [
            "請輸入一個數字5\n"
          ]
        }
      ]
    },
    {
      "cell_type": "code",
      "source": [
        "b"
      ],
      "metadata": {
        "colab": {
          "base_uri": "https://localhost:8080/",
          "height": 36
        },
        "id": "lEIShGy0vcLx",
        "outputId": "5a374d88-1293-456a-fd8b-9cef2515a919"
      },
      "execution_count": null,
      "outputs": [
        {
          "output_type": "execute_result",
          "data": {
            "text/plain": [
              "'5'"
            ],
            "application/vnd.google.colaboratory.intrinsic+json": {
              "type": "string"
            }
          },
          "metadata": {},
          "execution_count": 41
        }
      ]
    },
    {
      "cell_type": "code",
      "source": [
        "b+5"
      ],
      "metadata": {
        "colab": {
          "base_uri": "https://localhost:8080/",
          "height": 181
        },
        "id": "cMZWPZBGv3h5",
        "outputId": "67c9ce20-5dd1-4614-e7ad-867bd7a127ed"
      },
      "execution_count": null,
      "outputs": [
        {
          "output_type": "error",
          "ename": "TypeError",
          "evalue": "can only concatenate str (not \"int\") to str",
          "traceback": [
            "\u001b[0;31m---------------------------------------------------------------------------\u001b[0m",
            "\u001b[0;31mTypeError\u001b[0m                                 Traceback (most recent call last)",
            "\u001b[0;32m<ipython-input-42-2ef40728e71d>\u001b[0m in \u001b[0;36m<cell line: 1>\u001b[0;34m()\u001b[0m\n\u001b[0;32m----> 1\u001b[0;31m \u001b[0mb\u001b[0m\u001b[0;34m+\u001b[0m\u001b[0;36m5\u001b[0m\u001b[0;34m\u001b[0m\u001b[0;34m\u001b[0m\u001b[0m\n\u001b[0m",
            "\u001b[0;31mTypeError\u001b[0m: can only concatenate str (not \"int\") to str"
          ]
        }
      ]
    },
    {
      "cell_type": "code",
      "source": [
        "test1 = input(\"輸入\")"
      ],
      "metadata": {
        "id": "H2sNzb1PvdDi",
        "colab": {
          "base_uri": "https://localhost:8080/"
        },
        "outputId": "3008e6d8-b924-4ac8-8eb7-7e79d0fbd532"
      },
      "execution_count": null,
      "outputs": [
        {
          "name": "stdout",
          "output_type": "stream",
          "text": [
            "輸入2\n"
          ]
        }
      ]
    },
    {
      "cell_type": "code",
      "source": [
        "test1+2"
      ],
      "metadata": {
        "id": "HrthqajEvdxa",
        "colab": {
          "base_uri": "https://localhost:8080/",
          "height": 141
        },
        "outputId": "f26a7eb3-f5db-4e76-fde2-1c45de2f9517"
      },
      "execution_count": null,
      "outputs": [
        {
          "output_type": "error",
          "ename": "TypeError",
          "evalue": "can only concatenate str (not \"int\") to str",
          "traceback": [
            "\u001b[0;31m---------------------------------------------------------------------------\u001b[0m",
            "\u001b[0;31mTypeError\u001b[0m                                 Traceback (most recent call last)",
            "\u001b[0;32m<ipython-input-49-85e5954518a6>\u001b[0m in \u001b[0;36m<cell line: 1>\u001b[0;34m()\u001b[0m\n\u001b[0;32m----> 1\u001b[0;31m \u001b[0mtest1\u001b[0m\u001b[0;34m+\u001b[0m\u001b[0;36m2\u001b[0m\u001b[0;34m\u001b[0m\u001b[0;34m\u001b[0m\u001b[0m\n\u001b[0m",
            "\u001b[0;31mTypeError\u001b[0m: can only concatenate str (not \"int\") to str"
          ]
        }
      ]
    },
    {
      "cell_type": "code",
      "source": [
        "print(type(test1))"
      ],
      "metadata": {
        "id": "xBoGjoFkxF1l",
        "colab": {
          "base_uri": "https://localhost:8080/"
        },
        "outputId": "80cd0d18-7b17-4a28-9d0c-a38eba599d3e"
      },
      "execution_count": null,
      "outputs": [
        {
          "output_type": "stream",
          "name": "stdout",
          "text": [
            "<class 'str'>\n"
          ]
        }
      ]
    },
    {
      "cell_type": "code",
      "source": [
        "test = int(input(\"請輸入一個數字\"))"
      ],
      "metadata": {
        "id": "-VGN5QkEvd8C",
        "colab": {
          "base_uri": "https://localhost:8080/"
        },
        "outputId": "a65f3a3c-6cd5-4e94-d44e-afe10a6fb535"
      },
      "execution_count": null,
      "outputs": [
        {
          "name": "stdout",
          "output_type": "stream",
          "text": [
            "請輸入一個數字123\n"
          ]
        }
      ]
    },
    {
      "cell_type": "code",
      "source": [
        "test"
      ],
      "metadata": {
        "id": "-FRdok-Ix-wu",
        "colab": {
          "base_uri": "https://localhost:8080/"
        },
        "outputId": "83a599ca-8835-4dc2-8958-ab7a1b9e700b"
      },
      "execution_count": null,
      "outputs": [
        {
          "output_type": "execute_result",
          "data": {
            "text/plain": [
              "123"
            ]
          },
          "metadata": {},
          "execution_count": 46
        }
      ]
    },
    {
      "cell_type": "code",
      "source": [
        "print(type(test))"
      ],
      "metadata": {
        "id": "EgVQkvgQx-7M",
        "colab": {
          "base_uri": "https://localhost:8080/"
        },
        "outputId": "6192ed95-dc3e-48f4-b2aa-5c15a459ab8b"
      },
      "execution_count": null,
      "outputs": [
        {
          "output_type": "stream",
          "name": "stdout",
          "text": [
            "<class 'int'>\n"
          ]
        }
      ]
    },
    {
      "cell_type": "code",
      "source": [
        "test2 = int(input(\"請輸入一個數字\"))"
      ],
      "metadata": {
        "id": "q2Om7n8gnKJb",
        "colab": {
          "base_uri": "https://localhost:8080/"
        },
        "outputId": "f718868d-ebac-4153-c3e2-83a31a2463b9"
      },
      "execution_count": null,
      "outputs": [
        {
          "name": "stdout",
          "output_type": "stream",
          "text": [
            "請輸入一個數字111\n"
          ]
        }
      ]
    },
    {
      "cell_type": "code",
      "source": [
        "test + 1"
      ],
      "metadata": {
        "id": "hIZm4Xr6nKYi",
        "colab": {
          "base_uri": "https://localhost:8080/"
        },
        "outputId": "1e664fed-9f6f-427e-b5b4-d058d498134d"
      },
      "execution_count": null,
      "outputs": [
        {
          "output_type": "execute_result",
          "data": {
            "text/plain": [
              "124"
            ]
          },
          "metadata": {},
          "execution_count": 53
        }
      ]
    },
    {
      "cell_type": "code",
      "source": [
        "test2 + 1"
      ],
      "metadata": {
        "id": "AzE5Zg5BntSZ",
        "colab": {
          "base_uri": "https://localhost:8080/"
        },
        "outputId": "7c2042c2-3c63-41b8-9f74-a814a62cb10b"
      },
      "execution_count": null,
      "outputs": [
        {
          "output_type": "execute_result",
          "data": {
            "text/plain": [
              "112"
            ]
          },
          "metadata": {},
          "execution_count": 54
        }
      ]
    },
    {
      "cell_type": "code",
      "source": [
        "12+3"
      ],
      "metadata": {
        "id": "mRk1gg3ynKpB",
        "colab": {
          "base_uri": "https://localhost:8080/"
        },
        "outputId": "7ede705f-aa8c-47f8-e072-3174c019e81c"
      },
      "execution_count": null,
      "outputs": [
        {
          "output_type": "execute_result",
          "data": {
            "text/plain": [
              "15"
            ]
          },
          "metadata": {},
          "execution_count": 55
        }
      ]
    },
    {
      "cell_type": "code",
      "source": [
        "12-3"
      ],
      "metadata": {
        "id": "34V9OgqEnvjE",
        "colab": {
          "base_uri": "https://localhost:8080/"
        },
        "outputId": "50259c44-254b-40e5-854f-b6e014e03b14"
      },
      "execution_count": null,
      "outputs": [
        {
          "output_type": "execute_result",
          "data": {
            "text/plain": [
              "9"
            ]
          },
          "metadata": {},
          "execution_count": 56
        }
      ]
    },
    {
      "cell_type": "code",
      "source": [
        "12*3"
      ],
      "metadata": {
        "id": "uROoCX2jnvl_",
        "colab": {
          "base_uri": "https://localhost:8080/"
        },
        "outputId": "e0d1f717-f30f-4a87-d7d5-9b0b645c3d9a"
      },
      "execution_count": null,
      "outputs": [
        {
          "output_type": "execute_result",
          "data": {
            "text/plain": [
              "36"
            ]
          },
          "metadata": {},
          "execution_count": 57
        }
      ]
    },
    {
      "cell_type": "code",
      "source": [
        "32/5"
      ],
      "metadata": {
        "id": "HZ-RSY5vnvpD"
      },
      "execution_count": null,
      "outputs": []
    },
    {
      "cell_type": "code",
      "source": [
        "32%5"
      ],
      "metadata": {
        "id": "Jnv6t-Upnvqt",
        "colab": {
          "base_uri": "https://localhost:8080/"
        },
        "outputId": "8c246022-ffdc-49f2-bc54-06ddf6377cad"
      },
      "execution_count": null,
      "outputs": [
        {
          "output_type": "execute_result",
          "data": {
            "text/plain": [
              "2"
            ]
          },
          "metadata": {},
          "execution_count": 58
        }
      ]
    },
    {
      "cell_type": "code",
      "source": [
        "32//5"
      ],
      "metadata": {
        "id": "_BCJCAn3nKr3",
        "colab": {
          "base_uri": "https://localhost:8080/"
        },
        "outputId": "a5f3921e-513b-4317-d11a-1d052292fec0"
      },
      "execution_count": null,
      "outputs": [
        {
          "output_type": "execute_result",
          "data": {
            "text/plain": [
              "6"
            ]
          },
          "metadata": {},
          "execution_count": 59
        }
      ]
    },
    {
      "cell_type": "code",
      "source": [
        "7**2"
      ],
      "metadata": {
        "id": "bt3kW1B8oG71",
        "colab": {
          "base_uri": "https://localhost:8080/"
        },
        "outputId": "da1063a5-c688-4fac-fd46-47fc7a9b253c"
      },
      "execution_count": null,
      "outputs": [
        {
          "output_type": "execute_result",
          "data": {
            "text/plain": [
              "49"
            ]
          },
          "metadata": {},
          "execution_count": 60
        }
      ]
    },
    {
      "cell_type": "code",
      "source": [
        "國文 = int(input('請輸入國文成績'))\n",
        "英文 = int(input('請輸入英文成績'))\n",
        "數學 = int(input('請輸入數學成績'))\n",
        "你的成績總分為 = 國文 + 英文 + 數學"
      ],
      "metadata": {
        "id": "juIiQMyC0MDy",
        "colab": {
          "base_uri": "https://localhost:8080/"
        },
        "outputId": "2491bb81-5f99-49e4-a7fe-1ab5b65f38be"
      },
      "execution_count": 73,
      "outputs": [
        {
          "name": "stdout",
          "output_type": "stream",
          "text": [
            "請輸入國文成績50\n",
            "請輸入英文成績60\n",
            "請輸入數學成績70\n"
          ]
        }
      ]
    },
    {
      "cell_type": "code",
      "source": [
        "你的成績總分為"
      ],
      "metadata": {
        "id": "rbzK-dpS0MKQ",
        "colab": {
          "base_uri": "https://localhost:8080/"
        },
        "outputId": "e987f4f9-e39d-4d18-8f89-786a7f839cfa"
      },
      "execution_count": 74,
      "outputs": [
        {
          "output_type": "execute_result",
          "data": {
            "text/plain": [
              "180"
            ]
          },
          "metadata": {},
          "execution_count": 74
        }
      ]
    },
    {
      "cell_type": "code",
      "source": [
        "上底 = int(input('請輸入梯形上底長度'))\n",
        "下底 = int(input('請輸入梯形下底長度'))\n",
        "高 = int (input('請輸入梯形的高度'))\n",
        "面積 = (上底 + 下底) * 高 / 2"
      ],
      "metadata": {
        "id": "Df3OpaH8oG_I",
        "colab": {
          "base_uri": "https://localhost:8080/"
        },
        "outputId": "f94a509e-0011-4474-d4ca-d81918ab3822"
      },
      "execution_count": null,
      "outputs": [
        {
          "name": "stdout",
          "output_type": "stream",
          "text": [
            "請輸入梯形上底長度3\n",
            "請輸入梯形下底長度4\n",
            "請輸入梯形的高度3\n"
          ]
        }
      ]
    },
    {
      "cell_type": "code",
      "source": [
        "面積"
      ],
      "metadata": {
        "id": "ByXXv9iLoHCN",
        "colab": {
          "base_uri": "https://localhost:8080/"
        },
        "outputId": "2748a2b1-8373-4747-f132-e3d41ce032cf"
      },
      "execution_count": null,
      "outputs": [
        {
          "output_type": "execute_result",
          "data": {
            "text/plain": [
              "10.5"
            ]
          },
          "metadata": {},
          "execution_count": 67
        }
      ]
    },
    {
      "cell_type": "code",
      "source": [
        "身高 = int(input(\"請輸入您的身高\"))\n",
        "體重 = int(input(\"請輸入您的體重\"))\n",
        "BMI值 = 體重/((身高/100)**2)"
      ],
      "metadata": {
        "colab": {
          "base_uri": "https://localhost:8080/"
        },
        "id": "7_2IjNrF8YDt",
        "outputId": "ebdf67e0-7930-41da-f615-fac7916cbb6c"
      },
      "execution_count": 83,
      "outputs": [
        {
          "name": "stdout",
          "output_type": "stream",
          "text": [
            "請輸入您的身高180\n",
            "請輸入您的體重80\n"
          ]
        }
      ]
    },
    {
      "cell_type": "code",
      "source": [
        "BMI值"
      ],
      "metadata": {
        "colab": {
          "base_uri": "https://localhost:8080/"
        },
        "id": "EjnJH3TV__mj",
        "outputId": "c4cba62d-9b72-4579-d519-4a8915247333"
      },
      "execution_count": 86,
      "outputs": [
        {
          "output_type": "execute_result",
          "data": {
            "text/plain": [
              "24.691358024691358"
            ]
          },
          "metadata": {},
          "execution_count": 86
        }
      ]
    }
  ]
}